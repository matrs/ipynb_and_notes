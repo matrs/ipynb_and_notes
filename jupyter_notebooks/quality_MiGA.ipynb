{
  "cells": [
    {
      "cell_type": "code",
      "source": [
        "ls -ltrh"
      ],
      "outputs": [],
      "execution_count": 0,
      "metadata": {
        "scrolled": true,
        "id": "KT9pHZpOkPP-",
        "colab_type": "code",
        "colab": {}
      }
    },
    {
      "cell_type": "code",
      "source": [
        "%%bash\n",
        "sed -n 2,3p D43BF.quality"
      ],
      "outputs": [
        {
          "output_type": "stream",
          "name": "stdout",
          "text": [
            "! Completeness: 94.6%.\n",
            "! Contamination: 2.7%.\n"
          ]
        }
      ],
      "execution_count": 0,
      "metadata": {
        "id": "VL2kMn1PkPQH",
        "colab_type": "code",
        "colab": {},
        "outputId": "47f7cdbb-c679-4af6-eada-b941925af2d9"
      }
    },
    {
      "cell_type": "code",
      "source": [
        "import pandas as pd"
      ],
      "outputs": [
        {
          "output_type": "stream",
          "name": "stderr",
          "text": [
            "/home/cbib/miniconda3/envs/bif/lib/python3.6/importlib/_bootstrap.py:219: RuntimeWarning: numpy.dtype size changed, may indicate binary incompatibility. Expected 96, got 88\n",
            "  return f(*args, **kwds)\n",
            "/home/cbib/miniconda3/envs/bif/lib/python3.6/importlib/_bootstrap.py:219: RuntimeWarning: numpy.dtype size changed, may indicate binary incompatibility. Expected 96, got 88\n",
            "  return f(*args, **kwds)\n"
          ]
        }
      ],
      "execution_count": 0,
      "metadata": {
        "id": "Hrpmb1CZkPQN",
        "colab_type": "code",
        "colab": {},
        "outputId": "81291e58-e2c2-4089-f441-54bd60592473"
      }
    },
    {
      "cell_type": "markdown",
      "source": [
        "## Printing two specific lines and the file name along with them"
      ],
      "metadata": {
        "id": "1lQ9MjTmkPQS",
        "colab_type": "text"
      }
    },
    {
      "cell_type": "code",
      "source": [
        "%%bash\n",
        "awk 'NR==2 || NR==3 {print $0, FILENAME}' D43BF.quality"
      ],
      "outputs": [
        {
          "output_type": "stream",
          "name": "stdout",
          "text": [
            "! Completeness: 94.6%. D43BF.quality\n",
            "! Contamination: 2.7%. D43BF.quality\n"
          ]
        }
      ],
      "execution_count": 0,
      "metadata": {
        "scrolled": true,
        "id": "wTP_Iv7KkPQT",
        "colab_type": "code",
        "colab": {},
        "outputId": "0763a3b2-bf94-4eb8-febd-bdd0fcffeb6f"
      }
    },
    {
      "cell_type": "code",
      "source": [
        "%%bash \n",
        "find . -type f -name '*quality' -exec awk 'NR==2 || NR==3 {print $0, FILENAME}' > lorea.test {} +"
      ],
      "outputs": [],
      "execution_count": 0,
      "metadata": {
        "id": "mOgN28mrkPQY",
        "colab_type": "code",
        "colab": {}
      }
    },
    {
      "cell_type": "code",
      "source": [
        "cat lorea.test"
      ],
      "outputs": [
        {
          "output_type": "stream",
          "name": "stdout",
          "text": [
            "! Completeness: 77.5%. ./NB10.quality\r\n",
            "! Contamination: 53.2%. ./NB10.quality\r\n"
          ]
        }
      ],
      "execution_count": 0,
      "metadata": {
        "id": "N7CFE9VtkPQc",
        "colab_type": "code",
        "colab": {},
        "outputId": "760ab164-51c5-489d-8021-16d49a335dbf"
      }
    },
    {
      "cell_type": "code",
      "source": [
        "%%bash\n",
        "find . -type f -name '*quality'"
      ],
      "outputs": [
        {
          "output_type": "stream",
          "name": "stdout",
          "text": [
            "./NB10.quality\n",
            "./Rosemona_stu.quality\n",
            "./D43BF.quality\n",
            "./JCJR2.quality\n",
            "./JCJR12.quality\n",
            "./16572_RC21.quality\n",
            "./16573_RC22.quality\n",
            "./Rhodesiae_DN15.quality\n",
            "./Pseudo_GC2.quality\n",
            "./Pseudo_fragi.quality\n",
            "./Steno_JC29.quality\n"
          ]
        }
      ],
      "execution_count": 0,
      "metadata": {
        "id": "1J6CVmtSkPQh",
        "colab_type": "code",
        "colab": {},
        "outputId": "5821d3e7-1d28-42be-ab01-9c78ce758220"
      }
    },
    {
      "cell_type": "code",
      "source": [
        "%%bash\n",
        "AWK=\"awk 'NR==2 || NR==3 {print \\$0, FILENAME}'\"\n",
        "parallel \"$AWK {}\" ::: *.quality > qualities_MiGA.txt\n",
        "cat qualities_MiGA.txt"
      ],
      "outputs": [
        {
          "output_type": "stream",
          "name": "stdout",
          "text": [
            "! Completeness: 95.5%. 16572_RC21.quality\n",
            "! Contamination: 0.9%. 16572_RC21.quality\n",
            "! Completeness: 93.7%. 16573_RC22.quality\n",
            "! Contamination: 2.7%. 16573_RC22.quality\n",
            "! Completeness: 94.6%. D43BF.quality\n",
            "! Contamination: 2.7%. D43BF.quality\n",
            "! Completeness: 93.7%. JCJR12.quality\n",
            "! Contamination: 4.5%. JCJR12.quality\n",
            "! Completeness: 94.6%. JCJR2.quality\n",
            "! Contamination: 0.9%. JCJR2.quality\n",
            "! Completeness: 77.5%. NB10.quality\n",
            "! Contamination: 53.2%. NB10.quality\n",
            "! Completeness: 91.9%. Pseudo_fragi.quality\n",
            "! Contamination: 1.8%. Pseudo_fragi.quality\n",
            "! Completeness: 91.9%. Pseudo_GC2.quality\n",
            "! Contamination: 73.0%. Pseudo_GC2.quality\n",
            "! Completeness: 91.9%. Rhodesiae_DN15.quality\n",
            "! Contamination: 2.7%. Rhodesiae_DN15.quality\n",
            "! Completeness: 95.5%. Rosemona_stu.quality\n",
            "! Contamination: 1.8%. Rosemona_stu.quality\n",
            "! Completeness: 87.4%. Steno_JC29.quality\n",
            "! Contamination: 66.7%. Steno_JC29.quality\n"
          ]
        }
      ],
      "execution_count": 0,
      "metadata": {
        "id": "U0MSnczIkPQn",
        "colab_type": "code",
        "colab": {},
        "outputId": "cf839405-f8fc-4717-cd2a-7bcbe0f7d528"
      }
    },
    {
      "cell_type": "code",
      "source": [
        "from collections import defaultdict\n",
        "with open(\"qualities_MiGA.txt\", mode='r', encoding='utf8') as fh:\n",
        "    quality_dic = defaultdict(list)\n",
        "    for line in fh:\n",
        "        line = line.strip(\"!\").strip().split(\" \")\n",
        "        print(line)\n",
        "        k = line[2].split('.')[0]\n",
        "        quality_dic[k].append(float(line[1].split('%')[0])) \n",
        "d = dict((k, tuple(v)) for k, v in quality_dic.items())\n",
        "d"
      ],
      "outputs": [
        {
          "output_type": "stream",
          "name": "stdout",
          "text": [
            "['Completeness:', '95.5%.', '16572_RC21.quality']\n",
            "['Contamination:', '0.9%.', '16572_RC21.quality']\n",
            "['Completeness:', '93.7%.', '16573_RC22.quality']\n",
            "['Contamination:', '2.7%.', '16573_RC22.quality']\n",
            "['Completeness:', '94.6%.', 'D43BF.quality']\n",
            "['Contamination:', '2.7%.', 'D43BF.quality']\n",
            "['Completeness:', '93.7%.', 'JCJR12.quality']\n",
            "['Contamination:', '4.5%.', 'JCJR12.quality']\n",
            "['Completeness:', '94.6%.', 'JCJR2.quality']\n",
            "['Contamination:', '0.9%.', 'JCJR2.quality']\n",
            "['Completeness:', '77.5%.', 'NB10.quality']\n",
            "['Contamination:', '53.2%.', 'NB10.quality']\n",
            "['Completeness:', '91.9%.', 'Pseudo_fragi.quality']\n",
            "['Contamination:', '1.8%.', 'Pseudo_fragi.quality']\n",
            "['Completeness:', '91.9%.', 'Pseudo_GC2.quality']\n",
            "['Contamination:', '73.0%.', 'Pseudo_GC2.quality']\n",
            "['Completeness:', '91.9%.', 'Rhodesiae_DN15.quality']\n",
            "['Contamination:', '2.7%.', 'Rhodesiae_DN15.quality']\n",
            "['Completeness:', '95.5%.', 'Rosemona_stu.quality']\n",
            "['Contamination:', '1.8%.', 'Rosemona_stu.quality']\n",
            "['Completeness:', '87.4%.', 'Steno_JC29.quality']\n",
            "['Contamination:', '66.7%.', 'Steno_JC29.quality']\n"
          ]
        },
        {
          "output_type": "execute_result",
          "execution_count": 10,
          "data": {
            "text/plain": [
              "{'16572_RC21': (95.5, 0.9),\n",
              " '16573_RC22': (93.7, 2.7),\n",
              " 'D43BF': (94.6, 2.7),\n",
              " 'JCJR12': (93.7, 4.5),\n",
              " 'JCJR2': (94.6, 0.9),\n",
              " 'NB10': (77.5, 53.2),\n",
              " 'Pseudo_fragi': (91.9, 1.8),\n",
              " 'Pseudo_GC2': (91.9, 73.0),\n",
              " 'Rhodesiae_DN15': (91.9, 2.7),\n",
              " 'Rosemona_stu': (95.5, 1.8),\n",
              " 'Steno_JC29': (87.4, 66.7)}"
            ]
          },
          "metadata": {
            "tags": []
          }
        }
      ],
      "execution_count": 0,
      "metadata": {
        "scrolled": false,
        "id": "xfll1nVjkPQv",
        "colab_type": "code",
        "colab": {},
        "outputId": "688729c7-5314-4b26-de68-a66efd936902"
      }
    },
    {
      "cell_type": "code",
      "source": [
        "import pandas as pd\n",
        "import matplotlib.pyplot as plt\n",
        "import matplotlib"
      ],
      "outputs": [],
      "execution_count": 0,
      "metadata": {
        "id": "LX2QEmD8kPQ2",
        "colab_type": "code",
        "colab": {}
      }
    },
    {
      "cell_type": "code",
      "source": [
        "df_qual = pd.DataFrame.from_dict(d)"
      ],
      "outputs": [],
      "execution_count": 0,
      "metadata": {
        "id": "yTqCMHVfkPQ5",
        "colab_type": "code",
        "colab": {}
      }
    },
    {
      "cell_type": "code",
      "source": [
        "pd.DataFrame.from_dict?"
      ],
      "outputs": [],
      "execution_count": 0,
      "metadata": {
        "id": "nWToIM0OkPQ9",
        "colab_type": "code",
        "colab": {}
      }
    },
    {
      "cell_type": "code",
      "source": [
        "df_qual.index = ['Completeness','Contamination']\n",
        "df_qual"
      ],
      "outputs": [
        {
          "output_type": "execute_result",
          "execution_count": 14,
          "data": {
            "text/html": [
              "<div>\n",
              "<style scoped>\n",
              "    .dataframe tbody tr th:only-of-type {\n",
              "        vertical-align: middle;\n",
              "    }\n",
              "\n",
              "    .dataframe tbody tr th {\n",
              "        vertical-align: top;\n",
              "    }\n",
              "\n",
              "    .dataframe thead th {\n",
              "        text-align: right;\n",
              "    }\n",
              "</style>\n",
              "<table border=\"1\" class=\"dataframe\">\n",
              "  <thead>\n",
              "    <tr style=\"text-align: right;\">\n",
              "      <th></th>\n",
              "      <th>16572_RC21</th>\n",
              "      <th>16573_RC22</th>\n",
              "      <th>D43BF</th>\n",
              "      <th>JCJR12</th>\n",
              "      <th>JCJR2</th>\n",
              "      <th>NB10</th>\n",
              "      <th>Pseudo_fragi</th>\n",
              "      <th>Pseudo_GC2</th>\n",
              "      <th>Rhodesiae_DN15</th>\n",
              "      <th>Rosemona_stu</th>\n",
              "      <th>Steno_JC29</th>\n",
              "    </tr>\n",
              "  </thead>\n",
              "  <tbody>\n",
              "    <tr>\n",
              "      <th>Completeness</th>\n",
              "      <td>95.5</td>\n",
              "      <td>93.7</td>\n",
              "      <td>94.6</td>\n",
              "      <td>93.7</td>\n",
              "      <td>94.6</td>\n",
              "      <td>77.5</td>\n",
              "      <td>91.9</td>\n",
              "      <td>91.9</td>\n",
              "      <td>91.9</td>\n",
              "      <td>95.5</td>\n",
              "      <td>87.4</td>\n",
              "    </tr>\n",
              "    <tr>\n",
              "      <th>Contamination</th>\n",
              "      <td>0.9</td>\n",
              "      <td>2.7</td>\n",
              "      <td>2.7</td>\n",
              "      <td>4.5</td>\n",
              "      <td>0.9</td>\n",
              "      <td>53.2</td>\n",
              "      <td>1.8</td>\n",
              "      <td>73.0</td>\n",
              "      <td>2.7</td>\n",
              "      <td>1.8</td>\n",
              "      <td>66.7</td>\n",
              "    </tr>\n",
              "  </tbody>\n",
              "</table>\n",
              "</div>"
            ],
            "text/plain": [
              "               16572_RC21  16573_RC22  D43BF  JCJR12  JCJR2  NB10  \\\n",
              "Completeness         95.5        93.7   94.6    93.7   94.6  77.5   \n",
              "Contamination         0.9         2.7    2.7     4.5    0.9  53.2   \n",
              "\n",
              "               Pseudo_fragi  Pseudo_GC2  Rhodesiae_DN15  Rosemona_stu  \\\n",
              "Completeness           91.9        91.9            91.9          95.5   \n",
              "Contamination           1.8        73.0             2.7           1.8   \n",
              "\n",
              "               Steno_JC29  \n",
              "Completeness         87.4  \n",
              "Contamination        66.7  "
            ]
          },
          "metadata": {
            "tags": []
          }
        }
      ],
      "execution_count": 0,
      "metadata": {
        "scrolled": true,
        "id": "dRm5rvDfkPRA",
        "colab_type": "code",
        "colab": {},
        "outputId": "3ed86da1-4b5b-4e6a-ef04-f24db1b759f4"
      }
    },
    {
      "cell_type": "code",
      "source": [
        "matplotlib.style.use('seaborn-colorblind')"
      ],
      "outputs": [],
      "execution_count": 0,
      "metadata": {
        "id": "lRSkhsB4kPRF",
        "colab_type": "code",
        "colab": {}
      }
    },
    {
      "cell_type": "code",
      "source": [
        "fig, ax = plt.subplots()\n",
        "df_qual.T.plot(kind='barh', ax=ax, width=0.85, grid=True );\n",
        "ax.legend(loc=0, bbox_to_anchor=(0.9,0.85));\n",
        "#plt.tight_layout()\n",
        "plt.xlabel(r'$\\%$')\n",
        "fig.savefig('complet_cont.png',bbox_inches='tight')"
      ],
      "outputs": [
        {
          "output_type": "display_data",
          "data": {
            "image/png": "[encoded data removed]",
            "text/plain": [
              "<Figure size 432x288 with 1 Axes>"
            ]
          },
          "metadata": {
            "tags": [],
            "needs_background": "light"
          }
        }
      ],
      "execution_count": 0,
      "metadata": {
        "scrolled": false,
        "id": "sUSW_dT7kPRM",
        "colab_type": "code",
        "colab": {},
        "outputId": "8a64833e-1dbe-4b8f-ca4d-28ea2616ea02"
      }
    },
    {
      "cell_type": "code",
      "source": [],
      "outputs": [],
      "execution_count": 0,
      "metadata": {
        "id": "_OKjJ0g2kPRf",
        "colab_type": "code",
        "colab": {}
      }
    }
  ],
  "metadata": {
    "colab": {
      "name": "quality_MiGA.ipynb",
      "version": "0.3.2",
      "provenance": [],
      "collapsed_sections": []
    },
    "language_info": {
      "name": "python",
      "version": "3.7.1",
      "mimetype": "text/x-python",
      "codemirror_mode": {
        "name": "ipython",
        "version": 3
      },
      "pygments_lexer": "ipython3",
      "nbconvert_exporter": "python",
      "file_extension": ".py"
    },
    "kernelspec": {
      "name": "python3",
      "language": "python",
      "display_name": "Python 3"
    },
    "kernel_info": {
      "name": "python3"
    },
    "nteract": {
      "version": "0.14.3"
    }
  },
  "nbformat": 4,
  "nbformat_minor": 0
}